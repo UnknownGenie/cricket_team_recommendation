{
 "cells": [
  {
   "cell_type": "code",
   "execution_count": 28,
   "metadata": {
    "colab": {},
    "colab_type": "code",
    "id": "qfQl7TMOw4TZ"
   },
   "outputs": [],
   "source": [
    "# Getting required libraries\n",
    "import os\n",
    "\n",
    "import pandas as pd\n",
    "import numpy as np\n",
    "\n",
    "from sklearn.preprocessing import MinMaxScaler\n",
    "from sklearn.model_selection import train_test_split\n",
    "from sklearn.neural_network import MLPClassifier\n",
    "from joblib import dump "
   ]
  },
  {
   "cell_type": "code",
   "execution_count": 16,
   "metadata": {
    "colab": {},
    "colab_type": "code",
    "id": "UzhPA1ybN179"
   },
   "outputs": [],
   "source": [
    "def read_and_process(id, date, team, venue):\n",
    "  player = pd.read_csv(os.path.join('players','{}.csv'.format(id)), index_col=['Start Date'])\n",
    "  player.index = pd.DatetimeIndex(player.index)\n",
    "  cols = ['Dis', 'Ct', 'St', 'Ct Wk', 'Ct Fi',\n",
    "       'Runs_scored', 'Mins', 'BF', '4s', '6s', 'SR', 'Overs', 'Mdns',\n",
    "       'Runs_concieved', 'Wkts', 'Econ']\n",
    "  filter_time = (player.index < date)\n",
    "  filtered_by_time = player[filter_time]\n",
    "  overall = filtered_by_time[cols].mean().fillna(0).values\n",
    "\n",
    "  filter_team = (player.Opposition == team)\n",
    "  filtered_by_team = player[filter_team]\n",
    "  against_team = filtered_by_team[cols].mean().fillna(0).values\n",
    "\n",
    "  filter_venue = (player.Ground == venue)\n",
    "  filtered_by_venue = player[filter_venue]\n",
    "  on_venue = filtered_by_venue[cols].mean().fillna(0).values\n",
    "\n",
    "  both = filtered_by_team[filter_venue][cols].mean().fillna(0).values\n",
    "\n",
    "  features = np.hstack((overall, against_team, on_venue, both))\n",
    "  return features\n",
    "vread_and_process = np.vectorize(read_and_process,\n",
    "                                 signature = '(),(),(),()->(n)') \n",
    "def data_prep(df):\n",
    "  id = df['player_id'].values.astype(int)\n",
    "  date = df['date']\n",
    "  teams = df.opposition.values\n",
    "  venues = df.venue.values\n",
    "  \n",
    "  X = vread_and_process(id, date, teams, venues)\n",
    "  \n",
    "  y = df.played.values.astype(float)\n",
    "  \n",
    "  return X, y "
   ]
  },
  {
   "cell_type": "code",
   "execution_count": 17,
   "metadata": {
    "colab": {
     "base_uri": "https://localhost:8080/",
     "height": 204
    },
    "colab_type": "code",
    "executionInfo": {
     "elapsed": 1175,
     "status": "ok",
     "timestamp": 1588568975727,
     "user": {
      "displayName": "Muhammad Faheem",
      "photoUrl": "",
      "userId": "16494978489697363550"
     },
     "user_tz": -300
    },
    "id": "2TqGz2NUN7bw",
    "outputId": "b359addb-62b0-48c5-f310-983444676db0"
   },
   "outputs": [
    {
     "data": {
      "text/html": [
       "<div>\n",
       "<style scoped>\n",
       "    .dataframe tbody tr th:only-of-type {\n",
       "        vertical-align: middle;\n",
       "    }\n",
       "\n",
       "    .dataframe tbody tr th {\n",
       "        vertical-align: top;\n",
       "    }\n",
       "\n",
       "    .dataframe thead th {\n",
       "        text-align: right;\n",
       "    }\n",
       "</style>\n",
       "<table border=\"1\" class=\"dataframe\">\n",
       "  <thead>\n",
       "    <tr style=\"text-align: right;\">\n",
       "      <th></th>\n",
       "      <th>date</th>\n",
       "      <th>match</th>\n",
       "      <th>series</th>\n",
       "      <th>venue</th>\n",
       "      <th>opposition</th>\n",
       "      <th>player_id</th>\n",
       "      <th>player_name</th>\n",
       "      <th>playing_role</th>\n",
       "      <th>won</th>\n",
       "      <th>played</th>\n",
       "    </tr>\n",
       "  </thead>\n",
       "  <tbody>\n",
       "    <tr>\n",
       "      <th>0</th>\n",
       "      <td>2006-08-30</td>\n",
       "      <td>225245</td>\n",
       "      <td>14612</td>\n",
       "      <td>Cardiff</td>\n",
       "      <td>England</td>\n",
       "      <td>42639</td>\n",
       "      <td>Shahid Afridi</td>\n",
       "      <td>Allrounder</td>\n",
       "      <td>1.0</td>\n",
       "      <td>1</td>\n",
       "    </tr>\n",
       "    <tr>\n",
       "      <th>1</th>\n",
       "      <td>2006-08-30</td>\n",
       "      <td>225245</td>\n",
       "      <td>14612</td>\n",
       "      <td>Cardiff</td>\n",
       "      <td>England</td>\n",
       "      <td>40570</td>\n",
       "      <td>Inzamam-ul-Haq</td>\n",
       "      <td>Batsman</td>\n",
       "      <td>1.0</td>\n",
       "      <td>1</td>\n",
       "    </tr>\n",
       "    <tr>\n",
       "      <th>2</th>\n",
       "      <td>2006-08-30</td>\n",
       "      <td>225245</td>\n",
       "      <td>14612</td>\n",
       "      <td>Cardiff</td>\n",
       "      <td>England</td>\n",
       "      <td>43650</td>\n",
       "      <td>Mohammad Yousuf</td>\n",
       "      <td>Batsman</td>\n",
       "      <td>1.0</td>\n",
       "      <td>1</td>\n",
       "    </tr>\n",
       "    <tr>\n",
       "      <th>3</th>\n",
       "      <td>2006-08-30</td>\n",
       "      <td>225245</td>\n",
       "      <td>14612</td>\n",
       "      <td>Cardiff</td>\n",
       "      <td>England</td>\n",
       "      <td>43652</td>\n",
       "      <td>Younis Khan</td>\n",
       "      <td>Batsman</td>\n",
       "      <td>1.0</td>\n",
       "      <td>1</td>\n",
       "    </tr>\n",
       "    <tr>\n",
       "      <th>4</th>\n",
       "      <td>2006-08-30</td>\n",
       "      <td>225245</td>\n",
       "      <td>14612</td>\n",
       "      <td>Cardiff</td>\n",
       "      <td>England</td>\n",
       "      <td>41434</td>\n",
       "      <td>Mohammad Hafeez</td>\n",
       "      <td>Allrounder</td>\n",
       "      <td>1.0</td>\n",
       "      <td>1</td>\n",
       "    </tr>\n",
       "  </tbody>\n",
       "</table>\n",
       "</div>"
      ],
      "text/plain": [
       "         date   match  series    venue opposition  player_id      player_name  \\\n",
       "0  2006-08-30  225245   14612  Cardiff    England      42639    Shahid Afridi   \n",
       "1  2006-08-30  225245   14612  Cardiff    England      40570   Inzamam-ul-Haq   \n",
       "2  2006-08-30  225245   14612  Cardiff    England      43650  Mohammad Yousuf   \n",
       "3  2006-08-30  225245   14612  Cardiff    England      43652      Younis Khan   \n",
       "4  2006-08-30  225245   14612  Cardiff    England      41434  Mohammad Hafeez   \n",
       "\n",
       "  playing_role  won  played  \n",
       "0   Allrounder  1.0       1  \n",
       "1      Batsman  1.0       1  \n",
       "2      Batsman  1.0       1  \n",
       "3      Batsman  1.0       1  \n",
       "4   Allrounder  1.0       1  "
      ]
     },
     "execution_count": 17,
     "metadata": {},
     "output_type": "execute_result"
    }
   ],
   "source": [
    "players = pd.read_csv('Players_with_not_played_in_matches.csv') # Loading from disk\n",
    "players.head()"
   ]
  },
  {
   "cell_type": "code",
   "execution_count": 18,
   "metadata": {
    "colab": {
     "base_uri": "https://localhost:8080/",
     "height": 51
    },
    "colab_type": "code",
    "executionInfo": {
     "elapsed": 630,
     "status": "ok",
     "timestamp": 1588568941453,
     "user": {
      "displayName": "Muhammad Faheem",
      "photoUrl": "",
      "userId": "16494978489697363550"
     },
     "user_tz": -300
    },
    "id": "G4LZelqpW5Fk",
    "outputId": "7633f066-ac75-4874-be52-b007821ea779"
   },
   "outputs": [
    {
     "name": "stdout",
     "output_type": "stream",
     "text": [
      "training samples: 2978\n",
      "testing samples: 745\n"
     ]
    }
   ],
   "source": [
    "players_train, players_test = train_test_split(players,\n",
    "                                               test_size = 0.2,\n",
    "                                               random_state = 0)\n",
    "print(\"training samples:\", players_train.shape[0])\n",
    "print(\"testing samples:\", players_test.shape[0])"
   ]
  },
  {
   "cell_type": "code",
   "execution_count": 19,
   "metadata": {
    "colab": {
     "base_uri": "https://localhost:8080/",
     "height": 34
    },
    "colab_type": "code",
    "executionInfo": {
     "elapsed": 87474,
     "status": "ok",
     "timestamp": 1588567655590,
     "user": {
      "displayName": "Muhammad Faheem",
      "photoUrl": "",
      "userId": "16494978489697363550"
     },
     "user_tz": -300
    },
    "id": "D-TRDhcDUbm5",
    "outputId": "16564b67-f897-49dc-86b2-03ec49846981"
   },
   "outputs": [
    {
     "name": "stderr",
     "output_type": "stream",
     "text": [
      "C:\\Users\\ME\\Anaconda3\\envs\\team_prediction\\lib\\site-packages\\ipykernel_launcher.py:19: UserWarning: Boolean Series key will be reindexed to match DataFrame index.\n"
     ]
    }
   ],
   "source": [
    "X_train, y_train = data_prep(players_train)\n",
    "X_test, y_test = data_prep(players_test)"
   ]
  },
  {
   "cell_type": "code",
   "execution_count": 20,
   "metadata": {
    "colab": {},
    "colab_type": "code",
    "id": "4_2zw7KzWV3X"
   },
   "outputs": [],
   "source": [
    "scaler = MinMaxScaler()\n",
    "X_train_scaled = scaler.fit_transform(X_train)\n",
    "X_test_scaled = scaler.transform(X_test)"
   ]
  },
  {
   "cell_type": "code",
   "execution_count": 36,
   "metadata": {},
   "outputs": [
    {
     "data": {
      "text/plain": [
       "['../scaler.joblib']"
      ]
     },
     "execution_count": 36,
     "metadata": {},
     "output_type": "execute_result"
    }
   ],
   "source": [
    "dump(scaler, '../scaler.joblib')"
   ]
  },
  {
   "cell_type": "code",
   "execution_count": 21,
   "metadata": {
    "colab": {
     "base_uri": "https://localhost:8080/",
     "height": 34
    },
    "colab_type": "code",
    "executionInfo": {
     "elapsed": 87469,
     "status": "ok",
     "timestamp": 1588567656329,
     "user": {
      "displayName": "Muhammad Faheem",
      "photoUrl": "",
      "userId": "16494978489697363550"
     },
     "user_tz": -300
    },
    "id": "SuDc_Pq6gr93",
    "outputId": "0beaa5b2-f50a-4eeb-f443-e0d26514f960"
   },
   "outputs": [
    {
     "data": {
      "text/plain": [
       "0.8026845637583893"
      ]
     },
     "execution_count": 21,
     "metadata": {},
     "output_type": "execute_result"
    }
   ],
   "source": [
    "clf = MLPClassifier((64), early_stopping=True, random_state=0)\n",
    "clf.fit(X_train_scaled, y_train)\n",
    "clf.score(X_test_scaled, y_test)"
   ]
  },
  {
   "cell_type": "code",
   "execution_count": 29,
   "metadata": {},
   "outputs": [
    {
     "data": {
      "text/plain": [
       "['model.joblib']"
      ]
     },
     "execution_count": 29,
     "metadata": {},
     "output_type": "execute_result"
    }
   ],
   "source": [
    "dump(clf, 'model.joblib')"
   ]
  },
  {
   "cell_type": "code",
   "execution_count": 33,
   "metadata": {
    "colab": {},
    "colab_type": "code",
    "id": "ylpOaDdzX_dG"
   },
   "outputs": [],
   "source": [
    "pred = clf.predict_proba(X_test)[:,1].round(2)"
   ]
  },
  {
   "cell_type": "code",
   "execution_count": 34,
   "metadata": {
    "colab": {
     "base_uri": "https://localhost:8080/",
     "height": 119
    },
    "colab_type": "code",
    "executionInfo": {
     "elapsed": 627,
     "status": "ok",
     "timestamp": 1588567723634,
     "user": {
      "displayName": "Muhammad Faheem",
      "photoUrl": "",
      "userId": "16494978489697363550"
     },
     "user_tz": -300
    },
    "id": "gaMsWOMjZM_W",
    "outputId": "56b45060-bc7f-4e89-f317-92825bbbf2dc"
   },
   "outputs": [
    {
     "name": "stderr",
     "output_type": "stream",
     "text": [
      "C:\\Users\\ME\\Anaconda3\\envs\\team_prediction\\lib\\site-packages\\ipykernel_launcher.py:1: SettingWithCopyWarning: \n",
      "A value is trying to be set on a copy of a slice from a DataFrame.\n",
      "Try using .loc[row_indexer,col_indexer] = value instead\n",
      "\n",
      "See the caveats in the documentation: https://pandas.pydata.org/pandas-docs/stable/user_guide/indexing.html#returning-a-view-versus-a-copy\n",
      "  \"\"\"Entry point for launching an IPython kernel.\n"
     ]
    }
   ],
   "source": [
    "players_test['Prediction'] = pred"
   ]
  },
  {
   "cell_type": "markdown",
   "metadata": {
    "colab_type": "text",
    "id": "rDo-_M24eRGN"
   },
   "source": [
    "# Overall results"
   ]
  },
  {
   "cell_type": "code",
   "execution_count": 35,
   "metadata": {
    "colab": {
     "base_uri": "https://localhost:8080/",
     "height": 514
    },
    "colab_type": "code",
    "executionInfo": {
     "elapsed": 718,
     "status": "ok",
     "timestamp": 1588567725402,
     "user": {
      "displayName": "Muhammad Faheem",
      "photoUrl": "",
      "userId": "16494978489697363550"
     },
     "user_tz": -300
    },
    "id": "-_i1oejmZXLk",
    "outputId": "ca15ffc9-113f-4bd9-b787-8bac10be0b54"
   },
   "outputs": [
    {
     "data": {
      "text/html": [
       "<div>\n",
       "<style scoped>\n",
       "    .dataframe tbody tr th:only-of-type {\n",
       "        vertical-align: middle;\n",
       "    }\n",
       "\n",
       "    .dataframe tbody tr th {\n",
       "        vertical-align: top;\n",
       "    }\n",
       "\n",
       "    .dataframe thead th {\n",
       "        text-align: right;\n",
       "    }\n",
       "</style>\n",
       "<table border=\"1\" class=\"dataframe\">\n",
       "  <thead>\n",
       "    <tr style=\"text-align: right;\">\n",
       "      <th></th>\n",
       "      <th>date</th>\n",
       "      <th>match</th>\n",
       "      <th>series</th>\n",
       "      <th>venue</th>\n",
       "      <th>opposition</th>\n",
       "      <th>player_id</th>\n",
       "      <th>player_name</th>\n",
       "      <th>playing_role</th>\n",
       "      <th>won</th>\n",
       "      <th>played</th>\n",
       "      <th>Prediction</th>\n",
       "    </tr>\n",
       "  </thead>\n",
       "  <tbody>\n",
       "    <tr>\n",
       "      <th>2645</th>\n",
       "      <td>2014-12-14</td>\n",
       "      <td>742623</td>\n",
       "      <td>11580</td>\n",
       "      <td>Sharjah</td>\n",
       "      <td>New Zealand</td>\n",
       "      <td>41434</td>\n",
       "      <td>Mohammad Hafeez</td>\n",
       "      <td>Allrounder</td>\n",
       "      <td>1.0</td>\n",
       "      <td>1</td>\n",
       "      <td>1.00</td>\n",
       "    </tr>\n",
       "    <tr>\n",
       "      <th>1503</th>\n",
       "      <td>2011-11-11</td>\n",
       "      <td>530427</td>\n",
       "      <td>12704</td>\n",
       "      <td>Dubai</td>\n",
       "      <td>Sri Lanka</td>\n",
       "      <td>43590</td>\n",
       "      <td>Wahab Riaz</td>\n",
       "      <td>Bowler</td>\n",
       "      <td>1.0</td>\n",
       "      <td>0</td>\n",
       "      <td>0.00</td>\n",
       "    </tr>\n",
       "    <tr>\n",
       "      <th>1791</th>\n",
       "      <td>2012-06-13</td>\n",
       "      <td>562441</td>\n",
       "      <td>12506</td>\n",
       "      <td>Colombo</td>\n",
       "      <td>Sri Lanka</td>\n",
       "      <td>41434</td>\n",
       "      <td>Mohammad Hafeez</td>\n",
       "      <td>Allrounder</td>\n",
       "      <td>1.0</td>\n",
       "      <td>1</td>\n",
       "      <td>1.00</td>\n",
       "    </tr>\n",
       "    <tr>\n",
       "      <th>3539</th>\n",
       "      <td>2019-05-08</td>\n",
       "      <td>1152841</td>\n",
       "      <td>18664</td>\n",
       "      <td>London</td>\n",
       "      <td>England</td>\n",
       "      <td>512191</td>\n",
       "      <td>Fakhar Zaman</td>\n",
       "      <td>Batsman</td>\n",
       "      <td>1.0</td>\n",
       "      <td>1</td>\n",
       "      <td>1.00</td>\n",
       "    </tr>\n",
       "    <tr>\n",
       "      <th>489</th>\n",
       "      <td>2008-01-30</td>\n",
       "      <td>325803</td>\n",
       "      <td>14132</td>\n",
       "      <td>Faisalab</td>\n",
       "      <td>Zimbabwe</td>\n",
       "      <td>43235</td>\n",
       "      <td>Samiullah Khan</td>\n",
       "      <td>Bowler</td>\n",
       "      <td>1.0</td>\n",
       "      <td>0</td>\n",
       "      <td>0.00</td>\n",
       "    </tr>\n",
       "    <tr>\n",
       "      <th>534</th>\n",
       "      <td>2008-06-26</td>\n",
       "      <td>335351</td>\n",
       "      <td>13982</td>\n",
       "      <td>Karachi</td>\n",
       "      <td>India</td>\n",
       "      <td>42657</td>\n",
       "      <td>Shoaib Malik</td>\n",
       "      <td>Allrounder</td>\n",
       "      <td>0.0</td>\n",
       "      <td>1</td>\n",
       "      <td>1.00</td>\n",
       "    </tr>\n",
       "    <tr>\n",
       "      <th>1380</th>\n",
       "      <td>2011-02-05</td>\n",
       "      <td>473928</td>\n",
       "      <td>13008</td>\n",
       "      <td>Auckland</td>\n",
       "      <td>New Zealand</td>\n",
       "      <td>41378</td>\n",
       "      <td>Misbah-ul-Haq</td>\n",
       "      <td>Batsman</td>\n",
       "      <td>0.0</td>\n",
       "      <td>0</td>\n",
       "      <td>0.00</td>\n",
       "    </tr>\n",
       "    <tr>\n",
       "      <th>3523</th>\n",
       "      <td>2019-05-08</td>\n",
       "      <td>1152841</td>\n",
       "      <td>18664</td>\n",
       "      <td>London</td>\n",
       "      <td>England</td>\n",
       "      <td>227758</td>\n",
       "      <td>Imad Wasim</td>\n",
       "      <td>Allrounder</td>\n",
       "      <td>1.0</td>\n",
       "      <td>1</td>\n",
       "      <td>1.00</td>\n",
       "    </tr>\n",
       "    <tr>\n",
       "      <th>2366</th>\n",
       "      <td>2013-12-25</td>\n",
       "      <td>657643</td>\n",
       "      <td>11916</td>\n",
       "      <td>Abu Dhab</td>\n",
       "      <td>Sri Lanka</td>\n",
       "      <td>429981</td>\n",
       "      <td>Mohammad Irfan</td>\n",
       "      <td>Bowler</td>\n",
       "      <td>1.0</td>\n",
       "      <td>0</td>\n",
       "      <td>0.00</td>\n",
       "    </tr>\n",
       "    <tr>\n",
       "      <th>3325</th>\n",
       "      <td>2017-04-09</td>\n",
       "      <td>1077950</td>\n",
       "      <td>10927</td>\n",
       "      <td>Providen</td>\n",
       "      <td>West Indies</td>\n",
       "      <td>348144</td>\n",
       "      <td>Babar Azam</td>\n",
       "      <td>Batsman</td>\n",
       "      <td>1.0</td>\n",
       "      <td>1</td>\n",
       "      <td>1.00</td>\n",
       "    </tr>\n",
       "    <tr>\n",
       "      <th>2620</th>\n",
       "      <td>2014-12-12</td>\n",
       "      <td>742621</td>\n",
       "      <td>11580</td>\n",
       "      <td>Sharjah</td>\n",
       "      <td>New Zealand</td>\n",
       "      <td>41434</td>\n",
       "      <td>Mohammad Hafeez</td>\n",
       "      <td>Allrounder</td>\n",
       "      <td>0.0</td>\n",
       "      <td>1</td>\n",
       "      <td>1.00</td>\n",
       "    </tr>\n",
       "    <tr>\n",
       "      <th>3098</th>\n",
       "      <td>2015-10-01</td>\n",
       "      <td>919607</td>\n",
       "      <td>11291</td>\n",
       "      <td>Harare</td>\n",
       "      <td>Zimbabwe</td>\n",
       "      <td>434429</td>\n",
       "      <td>Aamer Yamin</td>\n",
       "      <td>Allrounder</td>\n",
       "      <td>1.0</td>\n",
       "      <td>1</td>\n",
       "      <td>1.00</td>\n",
       "    </tr>\n",
       "    <tr>\n",
       "      <th>1180</th>\n",
       "      <td>2010-06-15</td>\n",
       "      <td>455231</td>\n",
       "      <td>13227</td>\n",
       "      <td>Dambulla</td>\n",
       "      <td>Sri Lanka</td>\n",
       "      <td>42699</td>\n",
       "      <td>Saeed Ajmal</td>\n",
       "      <td>Bowler</td>\n",
       "      <td>0.0</td>\n",
       "      <td>0</td>\n",
       "      <td>1.00</td>\n",
       "    </tr>\n",
       "    <tr>\n",
       "      <th>1341</th>\n",
       "      <td>2011-01-29</td>\n",
       "      <td>473925</td>\n",
       "      <td>13008</td>\n",
       "      <td>Christch</td>\n",
       "      <td>New Zealand</td>\n",
       "      <td>43524</td>\n",
       "      <td>Umar Gul</td>\n",
       "      <td>Bowler</td>\n",
       "      <td>1.0</td>\n",
       "      <td>1</td>\n",
       "      <td>0.96</td>\n",
       "    </tr>\n",
       "    <tr>\n",
       "      <th>1101</th>\n",
       "      <td>2011-03-03</td>\n",
       "      <td>433574</td>\n",
       "      <td>12957</td>\n",
       "      <td>Colombo</td>\n",
       "      <td>Canada</td>\n",
       "      <td>259410</td>\n",
       "      <td>Ahmed Shehzad</td>\n",
       "      <td>Batsman</td>\n",
       "      <td>1.0</td>\n",
       "      <td>1</td>\n",
       "      <td>1.00</td>\n",
       "    </tr>\n",
       "  </tbody>\n",
       "</table>\n",
       "</div>"
      ],
      "text/plain": [
       "            date    match  series     venue   opposition  player_id  \\\n",
       "2645  2014-12-14   742623   11580   Sharjah  New Zealand      41434   \n",
       "1503  2011-11-11   530427   12704     Dubai    Sri Lanka      43590   \n",
       "1791  2012-06-13   562441   12506   Colombo    Sri Lanka      41434   \n",
       "3539  2019-05-08  1152841   18664    London      England     512191   \n",
       "489   2008-01-30   325803   14132  Faisalab     Zimbabwe      43235   \n",
       "534   2008-06-26   335351   13982   Karachi        India      42657   \n",
       "1380  2011-02-05   473928   13008  Auckland  New Zealand      41378   \n",
       "3523  2019-05-08  1152841   18664    London      England     227758   \n",
       "2366  2013-12-25   657643   11916  Abu Dhab    Sri Lanka     429981   \n",
       "3325  2017-04-09  1077950   10927  Providen  West Indies     348144   \n",
       "2620  2014-12-12   742621   11580   Sharjah  New Zealand      41434   \n",
       "3098  2015-10-01   919607   11291    Harare     Zimbabwe     434429   \n",
       "1180  2010-06-15   455231   13227  Dambulla    Sri Lanka      42699   \n",
       "1341  2011-01-29   473925   13008  Christch  New Zealand      43524   \n",
       "1101  2011-03-03   433574   12957   Colombo       Canada     259410   \n",
       "\n",
       "          player_name playing_role  won  played  Prediction  \n",
       "2645  Mohammad Hafeez   Allrounder  1.0       1        1.00  \n",
       "1503       Wahab Riaz       Bowler  1.0       0        0.00  \n",
       "1791  Mohammad Hafeez   Allrounder  1.0       1        1.00  \n",
       "3539     Fakhar Zaman      Batsman  1.0       1        1.00  \n",
       "489    Samiullah Khan       Bowler  1.0       0        0.00  \n",
       "534      Shoaib Malik   Allrounder  0.0       1        1.00  \n",
       "1380    Misbah-ul-Haq      Batsman  0.0       0        0.00  \n",
       "3523       Imad Wasim   Allrounder  1.0       1        1.00  \n",
       "2366   Mohammad Irfan       Bowler  1.0       0        0.00  \n",
       "3325       Babar Azam      Batsman  1.0       1        1.00  \n",
       "2620  Mohammad Hafeez   Allrounder  0.0       1        1.00  \n",
       "3098      Aamer Yamin   Allrounder  1.0       1        1.00  \n",
       "1180      Saeed Ajmal       Bowler  0.0       0        1.00  \n",
       "1341         Umar Gul       Bowler  1.0       1        0.96  \n",
       "1101    Ahmed Shehzad      Batsman  1.0       1        1.00  "
      ]
     },
     "execution_count": 35,
     "metadata": {},
     "output_type": "execute_result"
    }
   ],
   "source": [
    "players_test.head(15)"
   ]
  },
  {
   "cell_type": "markdown",
   "metadata": {
    "colab_type": "text",
    "id": "oeTuwb5SeVUY"
   },
   "source": [
    "## Team recomendation for 2014 series against Australa played at UAE\n",
    "## Selecting 4 batsmen, 1 wicketkeeper, 2 all rounder, 4 bowlers\n"
   ]
  },
  {
   "cell_type": "code",
   "execution_count": null,
   "metadata": {
    "colab": {
     "base_uri": "https://localhost:8080/",
     "height": 136
    },
    "colab_type": "code",
    "executionInfo": {
     "elapsed": 3204,
     "status": "ok",
     "timestamp": 1588567883532,
     "user": {
      "displayName": "Muhammad Faheem",
      "photoUrl": "",
      "userId": "16494978489697363550"
     },
     "user_tz": -300
    },
    "id": "afq4K9eKbJh3",
    "outputId": "aebea960-deab-465a-c73c-e8d2a870d523"
   },
   "outputs": [
    {
     "name": "stderr",
     "output_type": "stream",
     "text": [
      "/usr/local/lib/python3.6/dist-packages/ipykernel_launcher.py:19: UserWarning: Boolean Series key will be reindexed to match DataFrame index.\n",
      "/usr/local/lib/python3.6/dist-packages/ipykernel_launcher.py:5: SettingWithCopyWarning: \n",
      "A value is trying to be set on a copy of a slice from a DataFrame.\n",
      "Try using .loc[row_indexer,col_indexer] = value instead\n",
      "\n",
      "See the caveats in the documentation: https://pandas.pydata.org/pandas-docs/stable/user_guide/indexing.html#returning-a-view-versus-a-copy\n",
      "  \"\"\"\n"
     ]
    }
   ],
   "source": [
    "series = players[players.series == 13008]\n",
    "X, y = data_prep(series)\n",
    "X = scaler.transform(X)\n",
    "y = clf.predict_proba(X)[:, 1]\n",
    "series['recommended'] = y"
   ]
  },
  {
   "cell_type": "code",
   "execution_count": null,
   "metadata": {
    "colab": {
     "base_uri": "https://localhost:8080/",
     "height": 492
    },
    "colab_type": "code",
    "executionInfo": {
     "elapsed": 833,
     "status": "ok",
     "timestamp": 1588567917629,
     "user": {
      "displayName": "Muhammad Faheem",
      "photoUrl": "",
      "userId": "16494978489697363550"
     },
     "user_tz": -300
    },
    "id": "CNTgmKORb4iz",
    "outputId": "e498e02c-a121-4863-af6c-9e4eff448453"
   },
   "outputs": [
    {
     "name": "stdout",
     "output_type": "stream",
     "text": [
      "Chances of win: 0.8739407769499546\n",
      "Players that were not recommended:\n",
      "['Misbah-ul-Haq', 'Abdul Razzaq', 'Abdur Rehman']\n",
      "\n",
      "Players not in actual team\n",
      "['Misbah-ul-Haq', 'Abdur Rehman', 'Wahab Riaz']\n"
     ]
    },
    {
     "data": {
      "text/html": [
       "<div>\n",
       "<style scoped>\n",
       "    .dataframe tbody tr th:only-of-type {\n",
       "        vertical-align: middle;\n",
       "    }\n",
       "\n",
       "    .dataframe tbody tr th {\n",
       "        vertical-align: top;\n",
       "    }\n",
       "\n",
       "    .dataframe thead th {\n",
       "        text-align: right;\n",
       "    }\n",
       "</style>\n",
       "<table border=\"1\" class=\"dataframe\">\n",
       "  <thead>\n",
       "    <tr style=\"text-align: right;\">\n",
       "      <th></th>\n",
       "      <th>player_name</th>\n",
       "      <th>playing_role</th>\n",
       "      <th>played</th>\n",
       "      <th>recommended</th>\n",
       "    </tr>\n",
       "  </thead>\n",
       "  <tbody>\n",
       "    <tr>\n",
       "      <th>1372</th>\n",
       "      <td>Ahmed Shehzad</td>\n",
       "      <td>Batsman</td>\n",
       "      <td>1</td>\n",
       "      <td>0.895689</td>\n",
       "    </tr>\n",
       "    <tr>\n",
       "      <th>1371</th>\n",
       "      <td>Umar Akmal</td>\n",
       "      <td>Batsman</td>\n",
       "      <td>1</td>\n",
       "      <td>0.806980</td>\n",
       "    </tr>\n",
       "    <tr>\n",
       "      <th>1373</th>\n",
       "      <td>Younis Khan</td>\n",
       "      <td>Batsman</td>\n",
       "      <td>1</td>\n",
       "      <td>0.785746</td>\n",
       "    </tr>\n",
       "    <tr>\n",
       "      <th>1379</th>\n",
       "      <td>Asad Shafiq</td>\n",
       "      <td>Batsman</td>\n",
       "      <td>1</td>\n",
       "      <td>0.718611</td>\n",
       "    </tr>\n",
       "    <tr>\n",
       "      <th>1374</th>\n",
       "      <td>Kamran Akmal</td>\n",
       "      <td>Wicketkeeper</td>\n",
       "      <td>1</td>\n",
       "      <td>0.998641</td>\n",
       "    </tr>\n",
       "    <tr>\n",
       "      <th>1376</th>\n",
       "      <td>Mohammad Hafeez</td>\n",
       "      <td>Allrounder</td>\n",
       "      <td>1</td>\n",
       "      <td>0.970124</td>\n",
       "    </tr>\n",
       "    <tr>\n",
       "      <th>1370</th>\n",
       "      <td>Shahid Afridi</td>\n",
       "      <td>Allrounder</td>\n",
       "      <td>1</td>\n",
       "      <td>0.969911</td>\n",
       "    </tr>\n",
       "    <tr>\n",
       "      <th>1377</th>\n",
       "      <td>Wahab Riaz</td>\n",
       "      <td>Bowler</td>\n",
       "      <td>0</td>\n",
       "      <td>0.878264</td>\n",
       "    </tr>\n",
       "    <tr>\n",
       "      <th>1382</th>\n",
       "      <td>Sohail Tanvir</td>\n",
       "      <td>Bowler</td>\n",
       "      <td>1</td>\n",
       "      <td>0.873656</td>\n",
       "    </tr>\n",
       "    <tr>\n",
       "      <th>1375</th>\n",
       "      <td>Shoaib Akhtar</td>\n",
       "      <td>Bowler</td>\n",
       "      <td>1</td>\n",
       "      <td>0.864700</td>\n",
       "    </tr>\n",
       "    <tr>\n",
       "      <th>1383</th>\n",
       "      <td>Umar Gul</td>\n",
       "      <td>Bowler</td>\n",
       "      <td>1</td>\n",
       "      <td>0.851028</td>\n",
       "    </tr>\n",
       "  </tbody>\n",
       "</table>\n",
       "</div>"
      ],
      "text/plain": [
       "          player_name  playing_role  played  recommended\n",
       "1372    Ahmed Shehzad       Batsman       1     0.895689\n",
       "1371       Umar Akmal       Batsman       1     0.806980\n",
       "1373      Younis Khan       Batsman       1     0.785746\n",
       "1379      Asad Shafiq       Batsman       1     0.718611\n",
       "1374     Kamran Akmal  Wicketkeeper       1     0.998641\n",
       "1376  Mohammad Hafeez    Allrounder       1     0.970124\n",
       "1370    Shahid Afridi    Allrounder       1     0.969911\n",
       "1377       Wahab Riaz        Bowler       0     0.878264\n",
       "1382    Sohail Tanvir        Bowler       1     0.873656\n",
       "1375    Shoaib Akhtar        Bowler       1     0.864700\n",
       "1383         Umar Gul        Bowler       1     0.851028"
      ]
     },
     "execution_count": 389,
     "metadata": {
      "tags": []
     },
     "output_type": "execute_result"
    }
   ],
   "source": [
    "match = 473928\n",
    "batsman = series[(series.match == match) & (series.playing_role == 'Batsman')].sort_values(by = ['recommended'], ascending = False).head(4)\n",
    "keeper = series[(series.match == match) & (series.playing_role == 'Wicketkeeper')].sort_values(by = ['recommended'], ascending = False).head(1)\n",
    "allrounder = series[(series.match == match) & (series.playing_role == 'Allrounder')].sort_values(by = ['recommended'], ascending = False).head(2)\n",
    "bowler = series[(series.match == match) & (series.playing_role == 'Bowler')].sort_values(by = ['recommended'], ascending = False).head(4)\n",
    "recommended = pd.concat((batsman, keeper, allrounder, bowler))\n",
    "print(\"Chances of win:\", recommended.recommended.mean())\n",
    "\n",
    "squad = series.player_name.unique()\n",
    "recommended_players = recommended.player_name.tolist()\n",
    "left_out =  [player for player in squad if not player in recommended_players]\n",
    "actual_team = series[(series.match == match) & (series.played == 1)].player_name.tolist()\n",
    "left_out_actual =  [player for player in squad if not player in actual_team]\n",
    "print(\"Players that were not recommended:\")\n",
    "print(left_out)\n",
    "print()\n",
    "print(\"Players not in actual team\")\n",
    "print(left_out_actual)\n",
    "\n",
    "recommended[['player_name', 'playing_role', 'played', 'recommended']]"
   ]
  },
  {
   "cell_type": "code",
   "execution_count": null,
   "metadata": {
    "colab": {},
    "colab_type": "code",
    "id": "d0BUjhUSBqB2"
   },
   "outputs": [],
   "source": [
    "def recommend_team(squad, date, opposition, venue, clf):\n",
    "  ids = [players.player_id[players.player_name == name].iloc[0] for name in squad.player_name]\n",
    "  X = vread_and_process(ids, date, opposition, venue)\n",
    "  X = scaler.transform(X)\n",
    "  y = clf.predict_proba(X)[:, 1]\n",
    "  squad['recommended'] = y\n",
    "\n",
    "  batsman = squad[(squad.playing_role == 'Batsman')].sort_values(by = ['recommended'], ascending = False).head(4)\n",
    "  keeper = squad[(squad.playing_role == 'Wicketkeeper')].sort_values(by = ['recommended'], ascending = False).head(1)\n",
    "  allrounder = squad[(squad.playing_role == 'Allrounder')].sort_values(by = ['recommended'], ascending = False).head(2)\n",
    "  bowler = squad[(squad.playing_role == 'Bowler')].sort_values(by = ['recommended'], ascending = False).head(4)\n",
    "  recommended = pd.concat((batsman, keeper, allrounder, bowler))\n",
    "  print()\n",
    "  print(\"Recommending from following players:\")\n",
    "  print(squad.player_name.tolist())\n",
    "  print()\n",
    "  print(\"Chances of win: {:.1f}%\".format(squad.recommended[squad.recommended > 0.3].mean() * 100))\n",
    "\n",
    "  return recommended[['player_name', 'playing_role', 'recommended']].reset_index(drop=True)\n"
   ]
  },
  {
   "cell_type": "code",
   "execution_count": null,
   "metadata": {
    "colab": {
     "base_uri": "https://localhost:8080/",
     "height": 481
    },
    "colab_type": "code",
    "executionInfo": {
     "elapsed": 1593,
     "status": "ok",
     "timestamp": 1588570910858,
     "user": {
      "displayName": "Muhammad Faheem",
      "photoUrl": "",
      "userId": "16494978489697363550"
     },
     "user_tz": -300
    },
    "id": "SfpEQ3yCCcEm",
    "outputId": "f99ae1f6-cc71-43d1-8963-62506292100b"
   },
   "outputs": [
    {
     "name": "stderr",
     "output_type": "stream",
     "text": [
      "/usr/local/lib/python3.6/dist-packages/ipykernel_launcher.py:19: UserWarning: Boolean Series key will be reindexed to match DataFrame index.\n"
     ]
    },
    {
     "name": "stdout",
     "output_type": "stream",
     "text": [
      "\n",
      "Recommending from following players:\n",
      "['Mohammad Irfan', 'Yasir Shah', 'Wahab Riaz', 'Aamer Yamin', 'Imad Wasim', 'Mohammad Rizwan', 'Shoaib Malik', 'Mohammad Hafeez', 'Ahmed Shehzad', 'Azhar Ali', 'Bilal Asif', 'Asad Shafiq', 'Sarfaraz Ahmed']\n",
      "\n",
      "Chances of win: 68.3%\n"
     ]
    },
    {
     "data": {
      "text/html": [
       "<div>\n",
       "<style scoped>\n",
       "    .dataframe tbody tr th:only-of-type {\n",
       "        vertical-align: middle;\n",
       "    }\n",
       "\n",
       "    .dataframe tbody tr th {\n",
       "        vertical-align: top;\n",
       "    }\n",
       "\n",
       "    .dataframe thead th {\n",
       "        text-align: right;\n",
       "    }\n",
       "</style>\n",
       "<table border=\"1\" class=\"dataframe\">\n",
       "  <thead>\n",
       "    <tr style=\"text-align: right;\">\n",
       "      <th></th>\n",
       "      <th>player_name</th>\n",
       "      <th>playing_role</th>\n",
       "      <th>recommended</th>\n",
       "    </tr>\n",
       "  </thead>\n",
       "  <tbody>\n",
       "    <tr>\n",
       "      <th>0</th>\n",
       "      <td>Ahmed Shehzad</td>\n",
       "      <td>Batsman</td>\n",
       "      <td>0.932872</td>\n",
       "    </tr>\n",
       "    <tr>\n",
       "      <th>1</th>\n",
       "      <td>Asad Shafiq</td>\n",
       "      <td>Batsman</td>\n",
       "      <td>0.370063</td>\n",
       "    </tr>\n",
       "    <tr>\n",
       "      <th>2</th>\n",
       "      <td>Azhar Ali</td>\n",
       "      <td>Batsman</td>\n",
       "      <td>0.236308</td>\n",
       "    </tr>\n",
       "    <tr>\n",
       "      <th>3</th>\n",
       "      <td>Mohammad Rizwan</td>\n",
       "      <td>Batsman</td>\n",
       "      <td>0.129117</td>\n",
       "    </tr>\n",
       "    <tr>\n",
       "      <th>4</th>\n",
       "      <td>Sarfaraz Ahmed</td>\n",
       "      <td>Wicketkeeper</td>\n",
       "      <td>0.898961</td>\n",
       "    </tr>\n",
       "    <tr>\n",
       "      <th>5</th>\n",
       "      <td>Mohammad Hafeez</td>\n",
       "      <td>Allrounder</td>\n",
       "      <td>0.983371</td>\n",
       "    </tr>\n",
       "    <tr>\n",
       "      <th>6</th>\n",
       "      <td>Shoaib Malik</td>\n",
       "      <td>Allrounder</td>\n",
       "      <td>0.915999</td>\n",
       "    </tr>\n",
       "    <tr>\n",
       "      <th>7</th>\n",
       "      <td>Wahab Riaz</td>\n",
       "      <td>Bowler</td>\n",
       "      <td>0.113374</td>\n",
       "    </tr>\n",
       "    <tr>\n",
       "      <th>8</th>\n",
       "      <td>Mohammad Irfan</td>\n",
       "      <td>Bowler</td>\n",
       "      <td>0.072742</td>\n",
       "    </tr>\n",
       "    <tr>\n",
       "      <th>9</th>\n",
       "      <td>Yasir Shah</td>\n",
       "      <td>Bowler</td>\n",
       "      <td>0.066174</td>\n",
       "    </tr>\n",
       "  </tbody>\n",
       "</table>\n",
       "</div>"
      ],
      "text/plain": [
       "       player_name  playing_role  recommended\n",
       "0    Ahmed Shehzad       Batsman     0.932872\n",
       "1      Asad Shafiq       Batsman     0.370063\n",
       "2        Azhar Ali       Batsman     0.236308\n",
       "3  Mohammad Rizwan       Batsman     0.129117\n",
       "4   Sarfaraz Ahmed  Wicketkeeper     0.898961\n",
       "5  Mohammad Hafeez    Allrounder     0.983371\n",
       "6     Shoaib Malik    Allrounder     0.915999\n",
       "7       Wahab Riaz        Bowler     0.113374\n",
       "8   Mohammad Irfan        Bowler     0.072742\n",
       "9       Yasir Shah        Bowler     0.066174"
      ]
     },
     "execution_count": 472,
     "metadata": {
      "tags": []
     },
     "output_type": "execute_result"
    }
   ],
   "source": [
    "squad = players[players.series == 11291]\n",
    "squad = squad.groupby('player_name').head(1).reset_index()[['player_name', 'playing_role']]\n",
    "date = np.asarray(['2011-04-05'], dtype = object)\n",
    "opposition = 'Sri Lanka'\n",
    "venue = 'Sharjah'\n",
    "recommend_team(squad, date, opposition, venue, clf)"
   ]
  },
  {
   "cell_type": "code",
   "execution_count": null,
   "metadata": {
    "colab": {},
    "colab_type": "code",
    "id": "hibrOXgWC8fu"
   },
   "outputs": [],
   "source": []
  }
 ],
 "metadata": {
  "colab": {
   "authorship_tag": "ABX9TyNbK/jaKX5c8M5+DxdXqnSi",
   "collapsed_sections": [],
   "mount_file_id": "1keXNGj2OKR4mlyM2E-fZCBRsbISQrHvF",
   "name": "Player Prediction.ipynb",
   "provenance": []
  },
  "kernelspec": {
   "display_name": "Python 3",
   "language": "python",
   "name": "python3"
  },
  "language_info": {
   "codemirror_mode": {
    "name": "ipython",
    "version": 3
   },
   "file_extension": ".py",
   "mimetype": "text/x-python",
   "name": "python",
   "nbconvert_exporter": "python",
   "pygments_lexer": "ipython3",
   "version": "3.6.10"
  }
 },
 "nbformat": 4,
 "nbformat_minor": 4
}
